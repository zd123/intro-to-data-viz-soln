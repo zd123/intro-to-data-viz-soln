{
 "metadata": {
  "name": "",
  "signature": "sha256:5f3be343cc4491b0703deaa3b94e62827798abaf48a063cd278dc9d04e983599"
 },
 "nbformat": 3,
 "nbformat_minor": 0,
 "worksheets": [
  {
   "cells": [
    {
     "cell_type": "code",
     "collapsed": false,
     "input": [
      "import pandas as pd\n",
      "import seaborn as sns\n",
      "df = pd.read_csv('../data/total-crime-and-population.csv')\n",
      "df = df.set_index('State')\n",
      "df.head()"
     ],
     "language": "python",
     "metadata": {},
     "outputs": [
      {
       "html": [
        "<div style=\"max-height:1000px;max-width:1500px;overflow:auto;\">\n",
        "<table border=\"1\" class=\"dataframe\">\n",
        "  <thead>\n",
        "    <tr style=\"text-align: right;\">\n",
        "      <th></th>\n",
        "      <th>Population</th>\n",
        "      <th>total_all_crime</th>\n",
        "    </tr>\n",
        "    <tr>\n",
        "      <th>State</th>\n",
        "      <th></th>\n",
        "      <th></th>\n",
        "    </tr>\n",
        "  </thead>\n",
        "  <tbody>\n",
        "    <tr>\n",
        "      <th>Alabama</th>\n",
        "      <td>  4822023</td>\n",
        "      <td>  359449</td>\n",
        "    </tr>\n",
        "    <tr>\n",
        "      <th>Alaska</th>\n",
        "      <td>   731449</td>\n",
        "      <td>   44486</td>\n",
        "    </tr>\n",
        "    <tr>\n",
        "      <th>Arizona</th>\n",
        "      <td>  6553255</td>\n",
        "      <td>  491968</td>\n",
        "    </tr>\n",
        "    <tr>\n",
        "      <th>Arkansas</th>\n",
        "      <td>  2949131</td>\n",
        "      <td>  229717</td>\n",
        "    </tr>\n",
        "    <tr>\n",
        "      <th>California</th>\n",
        "      <td> 38041430</td>\n",
        "      <td> 2259874</td>\n",
        "    </tr>\n",
        "  </tbody>\n",
        "</table>\n",
        "</div>"
       ],
       "metadata": {},
       "output_type": "pyout",
       "prompt_number": 20,
       "text": [
        "            Population  total_all_crime\n",
        "State                                  \n",
        "Alabama        4822023           359449\n",
        "Alaska          731449            44486\n",
        "Arizona        6553255           491968\n",
        "Arkansas       2949131           229717\n",
        "California    38041430          2259874"
       ]
      }
     ],
     "prompt_number": 20
    },
    {
     "cell_type": "code",
     "collapsed": false,
     "input": [
      "binz = np.linspace(0, 11)\n",
      "plt.hist(df['Population'],  alpha=0.5);\n",
      "# plt.hist(df['total_all_crime'], alpha=0.5);"
     ],
     "language": "python",
     "metadata": {},
     "outputs": [
      {
       "metadata": {},
       "output_type": "display_data",
       "png": "[encoded data removed]",
       "text": [
        "<matplotlib.figure.Figure at 0x10ce55310>"
       ]
      }
     ],
     "prompt_number": 21
    },
    {
     "cell_type": "code",
     "collapsed": false,
     "input": [
      "f, (ax_l, ax_r) = plt.subplots(1, 2)\n",
      "ax_l.hist(df['Population'])\n",
      "ax_r.hist(df['total_all_crime'])"
     ],
     "language": "python",
     "metadata": {},
     "outputs": [
      {
       "metadata": {},
       "output_type": "pyout",
       "prompt_number": 24,
       "text": [
        "(array([ 24.,  14.,   6.,   4.,   0.,   1.,   0.,   0.,   1.,   1.]),\n",
        " array([   27605. ,   250831.9,   474058.8,   697285.7,   920512.6,\n",
        "         1143739.5,  1366966.4,  1590193.3,  1813420.2,  2036647.1,\n",
        "         2259874. ]),\n",
        " <a list of 10 Patch objects>)"
       ]
      },
      {
       "metadata": {},
       "output_type": "display_data",
       "png": "[encoded data removed]",
       "text": [
        "<matplotlib.figure.Figure at 0x10c0eab90>"
       ]
      }
     ],
     "prompt_number": 24
    },
    {
     "cell_type": "code",
     "collapsed": false,
     "input": [
      "# bins = np.linspace(0, max_data, max_data + 1)"
     ],
     "language": "python",
     "metadata": {},
     "outputs": []
    }
   ],
   "metadata": {}
  }
 ]
}