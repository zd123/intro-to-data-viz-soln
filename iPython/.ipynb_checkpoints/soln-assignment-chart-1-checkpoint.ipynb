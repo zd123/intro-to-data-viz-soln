{
 "metadata": {
  "name": "",
  "signature": "sha256:e00cedfd85b2378c5623276aece4b60654f4f915689f30e60de266b9ad2b989e"
 },
 "nbformat": 3,
 "nbformat_minor": 0,
 "worksheets": [
  {
   "cells": [
    {
     "cell_type": "code",
     "collapsed": false,
     "input": [
      "import seaborn as sns\n",
      "import pandas as pd\n",
      "import matplotlib.pyplot as plt"
     ],
     "language": "python",
     "metadata": {},
     "outputs": [],
     "prompt_number": 4
    },
    {
     "cell_type": "code",
     "collapsed": false,
     "input": [
      "# Load in the yearly data. \n",
      "df = pd.read_csv('../data/chitown_crime_yearly.csv')\n",
      "\n",
      "# Convert the Date column to a datetime object.\n",
      "df['Date'] = pd.to_datetime(df['Date'])\n",
      "\n",
      "# Set the Date column to be the index.\n",
      "df = df.set_index('Date')\n",
      "\n",
      "# Inspect your dataframe.\n",
      "df.head()"
     ],
     "language": "python",
     "metadata": {},
     "outputs": [
      {
       "html": [
        "<div style=\"max-height:1000px;max-width:1500px;overflow:auto;\">\n",
        "<table border=\"1\" class=\"dataframe\">\n",
        "  <thead>\n",
        "    <tr style=\"text-align: right;\">\n",
        "      <th></th>\n",
        "      <th>Primary Type</th>\n",
        "      <th>Count</th>\n",
        "    </tr>\n",
        "    <tr>\n",
        "      <th>Date</th>\n",
        "      <th></th>\n",
        "      <th></th>\n",
        "    </tr>\n",
        "  </thead>\n",
        "  <tbody>\n",
        "    <tr>\n",
        "      <th>2004-12-31</th>\n",
        "      <td> ARSON</td>\n",
        "      <td> 778</td>\n",
        "    </tr>\n",
        "    <tr>\n",
        "      <th>2005-12-31</th>\n",
        "      <td> ARSON</td>\n",
        "      <td> 691</td>\n",
        "    </tr>\n",
        "    <tr>\n",
        "      <th>2006-12-31</th>\n",
        "      <td> ARSON</td>\n",
        "      <td> 726</td>\n",
        "    </tr>\n",
        "    <tr>\n",
        "      <th>2007-12-31</th>\n",
        "      <td> ARSON</td>\n",
        "      <td> 712</td>\n",
        "    </tr>\n",
        "    <tr>\n",
        "      <th>2008-12-31</th>\n",
        "      <td> ARSON</td>\n",
        "      <td> 644</td>\n",
        "    </tr>\n",
        "  </tbody>\n",
        "</table>\n",
        "</div>"
       ],
       "metadata": {},
       "output_type": "pyout",
       "prompt_number": 5,
       "text": [
        "           Primary Type  Count\n",
        "Date                          \n",
        "2004-12-31        ARSON    778\n",
        "2005-12-31        ARSON    691\n",
        "2006-12-31        ARSON    726\n",
        "2007-12-31        ARSON    712\n",
        "2008-12-31        ARSON    644"
       ]
      }
     ],
     "prompt_number": 5
    },
    {
     "cell_type": "code",
     "collapsed": false,
     "input": [
      "# Because the index is a datetime object. \n",
      "# We can use the pandas resample function which is like a groupby for time.\n",
      "# The 'A' means groupby year... if you did 'M' it would be month.\n",
      "# The docs for df.resample() are here.  http://bit.ly/13F2XvP\n",
      "\n",
      "# So we groupby the year and sum the counts of the crime, then plot them as a bar plot \n",
      "yeartots = df.resample(rule='A', how='sum').plot(kind='bar')"
     ],
     "language": "python",
     "metadata": {},
     "outputs": [
      {
       "metadata": {},
       "output_type": "display_data",
       "png": "[encoded data removed]",
       "text": [
        "<matplotlib.figure.Figure at 0x10a7ff0d0>"
       ]
      }
     ],
     "prompt_number": 6
    },
    {
     "cell_type": "code",
     "collapsed": false,
     "input": [
      "'''\n",
      "TIME FREQUENCYS RULE CODES FOR PANDAS .resample(rule='M') FUNCTION\n",
      "===============================================\n",
      "B   business day frequency\n",
      "C   custom business day frequency (experimental)\n",
      "D   calendar day frequency\n",
      "W   weekly frequency\n",
      "M   month end frequency\n",
      "BM  business month end frequency\n",
      "MS  month start frequency\n",
      "BMS business month start frequency\n",
      "Q   quarter end frequency\n",
      "BQ  business quarter endfrequency\n",
      "QS  quarter start frequency\n",
      "BQS business quarter start frequency\n",
      "A   year end frequency\n",
      "BA  business year end frequency\n",
      "AS  year start frequency\n",
      "BAS business year start frequency\n",
      "H   hourly frequency\n",
      "T   minutely frequency\n",
      "S   secondly frequency\n",
      "L   milliseconds\n",
      "U   microseconds\n",
      "'''"
     ],
     "language": "python",
     "metadata": {},
     "outputs": []
    },
    {
     "cell_type": "code",
     "collapsed": false,
     "input": [],
     "language": "python",
     "metadata": {},
     "outputs": []
    }
   ],
   "metadata": {}
  }
 ]
}